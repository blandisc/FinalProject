{
 "cells": [
  {
   "cell_type": "code",
   "execution_count": 38,
   "metadata": {},
   "outputs": [],
   "source": [
    "import pandas as pd \n",
    "import nltk\n",
    "from nltk.tokenize import word_tokenize\n",
    "from nltk.tokenize import sent_tokenize\n",
    "from nltk.corpus import stopwords\n",
    "from nltk.text import Text\n",
    "import string, re \n",
    "from sklearn.feature_extraction.text import CountVectorizer"
   ]
  },
  {
   "cell_type": "code",
   "execution_count": 39,
   "metadata": {},
   "outputs": [
    {
     "data": {
      "text/html": [
       "<div>\n",
       "<style scoped>\n",
       "    .dataframe tbody tr th:only-of-type {\n",
       "        vertical-align: middle;\n",
       "    }\n",
       "\n",
       "    .dataframe tbody tr th {\n",
       "        vertical-align: top;\n",
       "    }\n",
       "\n",
       "    .dataframe thead th {\n",
       "        text-align: right;\n",
       "    }\n",
       "</style>\n",
       "<table border=\"1\" class=\"dataframe\">\n",
       "  <thead>\n",
       "    <tr style=\"text-align: right;\">\n",
       "      <th></th>\n",
       "      <th>Unnamed: 0</th>\n",
       "      <th>Content</th>\n",
       "      <th>Date</th>\n",
       "      <th>User</th>\n",
       "      <th>Enojo</th>\n",
       "    </tr>\n",
       "  </thead>\n",
       "  <tbody>\n",
       "    <tr>\n",
       "      <th>0</th>\n",
       "      <td>0</td>\n",
       "      <td>Que no era un estado laico y así?</td>\n",
       "      <td>25 ago.</td>\n",
       "      <td>@Brigitte_Grey</td>\n",
       "      <td>NaN</td>\n",
       "    </tr>\n",
       "    <tr>\n",
       "      <th>1</th>\n",
       "      <td>1</td>\n",
       "      <td>Tu no eres bueno</td>\n",
       "      <td>25 ago.</td>\n",
       "      <td>@juancarlosgt</td>\n",
       "      <td>NaN</td>\n",
       "    </tr>\n",
       "  </tbody>\n",
       "</table>\n",
       "</div>"
      ],
      "text/plain": [
       "   Unnamed: 0                            Content     Date            User  \\\n",
       "0           0  Que no era un estado laico y así?  25 ago.  @Brigitte_Grey   \n",
       "1           1                   Tu no eres bueno  25 ago.   @juancarlosgt   \n",
       "\n",
       "  Enojo  \n",
       "0   NaN  \n",
       "1   NaN  "
      ]
     },
     "execution_count": 39,
     "metadata": {},
     "output_type": "execute_result"
    }
   ],
   "source": [
    "sentiment_df=pd.read_excel('Resources/NRC-Emotion-Lexicon-v0.92-In105Languages-Nov2017Translations.xlsx')\n"
   ]
  },
  {
   "cell_type": "code",
   "execution_count": 52,
   "metadata": {
    "scrolled": true
   },
   "outputs": [
    {
     "data": {
      "text/html": [
       "<div>\n",
       "<style scoped>\n",
       "    .dataframe tbody tr th:only-of-type {\n",
       "        vertical-align: middle;\n",
       "    }\n",
       "\n",
       "    .dataframe tbody tr th {\n",
       "        vertical-align: top;\n",
       "    }\n",
       "\n",
       "    .dataframe thead th {\n",
       "        text-align: right;\n",
       "    }\n",
       "</style>\n",
       "<table border=\"1\" class=\"dataframe\">\n",
       "  <thead>\n",
       "    <tr style=\"text-align: right;\">\n",
       "      <th></th>\n",
       "      <th>Content</th>\n",
       "      <th>Date</th>\n",
       "      <th>User</th>\n",
       "    </tr>\n",
       "  </thead>\n",
       "  <tbody>\n",
       "    <tr>\n",
       "      <th>0</th>\n",
       "      <td>Que no era un estado laico y así?</td>\n",
       "      <td>25 ago.</td>\n",
       "      <td>@Brigitte_Grey</td>\n",
       "    </tr>\n",
       "    <tr>\n",
       "      <th>1</th>\n",
       "      <td>Tu no eres bueno</td>\n",
       "      <td>25 ago.</td>\n",
       "      <td>@juancarlosgt</td>\n",
       "    </tr>\n",
       "  </tbody>\n",
       "</table>\n",
       "</div>"
      ],
      "text/plain": [
       "                             Content     Date            User\n",
       "0  Que no era un estado laico y así?  25 ago.  @Brigitte_Grey\n",
       "1                   Tu no eres bueno  25 ago.   @juancarlosgt"
      ]
     },
     "execution_count": 52,
     "metadata": {},
     "output_type": "execute_result"
    }
   ],
   "source": [
    "tweets_df=pd.read_csv('Resources/Tweets.csv')\n",
    "tweets_df.head(2)"
   ]
  },
  {
   "cell_type": "code",
   "execution_count": 53,
   "metadata": {},
   "outputs": [
    {
     "data": {
      "text/html": [
       "<div>\n",
       "<style scoped>\n",
       "    .dataframe tbody tr th:only-of-type {\n",
       "        vertical-align: middle;\n",
       "    }\n",
       "\n",
       "    .dataframe tbody tr th {\n",
       "        vertical-align: top;\n",
       "    }\n",
       "\n",
       "    .dataframe thead th {\n",
       "        text-align: right;\n",
       "    }\n",
       "</style>\n",
       "<table border=\"1\" class=\"dataframe\">\n",
       "  <thead>\n",
       "    <tr style=\"text-align: right;\">\n",
       "      <th></th>\n",
       "      <th>Spanish (es)</th>\n",
       "      <th>Positive</th>\n",
       "      <th>Negative</th>\n",
       "      <th>Anger</th>\n",
       "      <th>Disgust</th>\n",
       "      <th>Fear</th>\n",
       "      <th>Joy</th>\n",
       "      <th>Sadness</th>\n",
       "      <th>Surprise</th>\n",
       "      <th>Trust</th>\n",
       "    </tr>\n",
       "  </thead>\n",
       "  <tbody>\n",
       "    <tr>\n",
       "      <th>0</th>\n",
       "      <td>detrás</td>\n",
       "      <td>0</td>\n",
       "      <td>0</td>\n",
       "      <td>0</td>\n",
       "      <td>0</td>\n",
       "      <td>0</td>\n",
       "      <td>0</td>\n",
       "      <td>0</td>\n",
       "      <td>0</td>\n",
       "      <td>0</td>\n",
       "    </tr>\n",
       "    <tr>\n",
       "      <th>1</th>\n",
       "      <td>ábaco</td>\n",
       "      <td>0</td>\n",
       "      <td>0</td>\n",
       "      <td>0</td>\n",
       "      <td>0</td>\n",
       "      <td>0</td>\n",
       "      <td>0</td>\n",
       "      <td>0</td>\n",
       "      <td>0</td>\n",
       "      <td>1</td>\n",
       "    </tr>\n",
       "  </tbody>\n",
       "</table>\n",
       "</div>"
      ],
      "text/plain": [
       "  Spanish (es)  Positive  Negative  Anger  Disgust  Fear  Joy  Sadness  \\\n",
       "0       detrás         0         0      0        0     0    0        0   \n",
       "1        ábaco         0         0      0        0     0    0        0   \n",
       "\n",
       "   Surprise  Trust  \n",
       "0         0      0  \n",
       "1         0      1  "
      ]
     },
     "execution_count": 53,
     "metadata": {},
     "output_type": "execute_result"
    }
   ],
   "source": [
    "sentiment_df=sentiment_df[['Spanish (es)','Positive','Negative','Anger','Disgust','Fear','Joy','Sadness','Surprise','Trust']]\n",
    "sentiment_df.head(2)"
   ]
  },
  {
   "cell_type": "code",
   "execution_count": 54,
   "metadata": {},
   "outputs": [],
   "source": [
    "Anger=sentiment_df[['Spanish (es)','Anger']].loc[sentiment_df['Anger']==1]\n",
    "Disgust=sentiment_df[['Spanish (es)','Disgust']].loc[sentiment_df['Disgust']==1]\n",
    "Fear=sentiment_df[['Spanish (es)','Fear']].loc[sentiment_df['Fear']==1]\n",
    "Joy=sentiment_df[['Spanish (es)','Joy']].loc[sentiment_df['Joy']==1]\n",
    "Sadness=sentiment_df[['Spanish (es)','Sadness']].loc[sentiment_df['Sadness']==1]\n",
    "Trust=sentiment_df[['Spanish (es)','Trust']].loc[sentiment_df['Trust']==1]\n",
    "\n",
    "tweets_df['Enojo']=''\n",
    "tweets_df['Tristeza']=''\n",
    "tweets_df['Miedo']=''\n",
    "tweets_df['Disgusto']=''\n",
    "tweets_df['Felicidad']=''\n",
    "tweets_df['Confianza']=''\n",
    "tweets_df['Sentimientos positivos']=''\n",
    "tweets_df['Sentimentos negativos']=''\n",
    "tweets_df['Palabras totales']=''\n"
   ]
  },
  {
   "cell_type": "code",
   "execution_count": 55,
   "metadata": {},
   "outputs": [
    {
     "name": "stderr",
     "output_type": "stream",
     "text": [
      "[nltk_data] Error loading stopwords: <urlopen error [SSL:\n",
      "[nltk_data]     CERTIFICATE_VERIFY_FAILED] certificate verify failed:\n",
      "[nltk_data]     self signed certificate in certificate chain\n",
      "[nltk_data]     (_ssl.c:1076)>\n"
     ]
    }
   ],
   "source": [
    "nltk.download('stopwords')\n",
    "stop_words=stopwords.words('spanish')\n",
    "\n",
    "vectorizer=CountVectorizer(stop_words=stop_words)\n",
    "\n",
    "for index,row in tweets_df.iterrows():\n",
    "    \n",
    "    tweet=[tweets_df['Content'][index]]\n",
    "    \n",
    "    vectorizer.fit_transform(tweet)\n",
    "    vector=vectorizer.transform(tweet)\n",
    "    \n",
    "    enojo=vectorizer.transform(Anger['Spanish (es)']).toarray()\n",
    "    enojo=enojo.sum()\n",
    "    \n",
    "    disgusto=vectorizer.transform(Disgust['Spanish (es)']).toarray()\n",
    "    disgusto=disgusto.sum()\n",
    "    \n",
    "    miedo=vectorizer.transform(Fear['Spanish (es)']).toarray()\n",
    "    miedo=miedo.sum()\n",
    "    \n",
    "    felicidad=vectorizer.transform(Joy['Spanish (es)']).toarray()\n",
    "    felicidad=felicidad.sum()\n",
    "    \n",
    "    trizteza=vectorizer.transform(Sadness['Spanish (es)']).toarray()\n",
    "    trizteza=trizteza.sum()\n",
    "    \n",
    "    confianza=vectorizer.transform(Trust['Spanish (es)']).toarray()\n",
    "    confianza=confianza.sum()\n",
    "    \n",
    "    tweets_df.at[index,'Enojo']=enojo\n",
    "    tweets_df.at[index,'Disgusto']=disgusto\n",
    "    tweets_df.at[index,'Miedo']=miedo\n",
    "    tweets_df.at[index,'Felicidad']=felicidad\n",
    "    tweets_df.at[index,'Tristeza']=trizteza\n",
    "    tweets_df.at[index,'Confianza']=confianza\n",
    "    tweets_df.at[index,'Sentimientos positivos']=confianza+felicidad\n",
    "    tweets_df.at[index,'Sentimentos negativos']=enojo+disgusto+miedo+trizteza\n",
    "    tweets_df.at[index,'Palabras totales']=vector.sum()\n",
    "   \n"
   ]
  },
  {
   "cell_type": "code",
   "execution_count": 56,
   "metadata": {
    "scrolled": false
   },
   "outputs": [
    {
     "data": {
      "text/html": [
       "<div>\n",
       "<style scoped>\n",
       "    .dataframe tbody tr th:only-of-type {\n",
       "        vertical-align: middle;\n",
       "    }\n",
       "\n",
       "    .dataframe tbody tr th {\n",
       "        vertical-align: top;\n",
       "    }\n",
       "\n",
       "    .dataframe thead th {\n",
       "        text-align: right;\n",
       "    }\n",
       "</style>\n",
       "<table border=\"1\" class=\"dataframe\">\n",
       "  <thead>\n",
       "    <tr style=\"text-align: right;\">\n",
       "      <th></th>\n",
       "      <th>Content</th>\n",
       "      <th>Date</th>\n",
       "      <th>User</th>\n",
       "      <th>Enojo</th>\n",
       "      <th>Tristeza</th>\n",
       "      <th>Miedo</th>\n",
       "      <th>Disgusto</th>\n",
       "      <th>Felicidad</th>\n",
       "      <th>Confianza</th>\n",
       "      <th>Sentimientos positivos</th>\n",
       "      <th>Sentimentos negativos</th>\n",
       "      <th>Palabras totales</th>\n",
       "    </tr>\n",
       "  </thead>\n",
       "  <tbody>\n",
       "    <tr>\n",
       "      <th>0</th>\n",
       "      <td>Que no era un estado laico y así?</td>\n",
       "      <td>25 ago.</td>\n",
       "      <td>@Brigitte_Grey</td>\n",
       "      <td>0</td>\n",
       "      <td>0</td>\n",
       "      <td>0</td>\n",
       "      <td>0</td>\n",
       "      <td>0</td>\n",
       "      <td>0</td>\n",
       "      <td>0</td>\n",
       "      <td>0</td>\n",
       "      <td>2</td>\n",
       "    </tr>\n",
       "    <tr>\n",
       "      <th>1</th>\n",
       "      <td>Tu no eres bueno</td>\n",
       "      <td>25 ago.</td>\n",
       "      <td>@juancarlosgt</td>\n",
       "      <td>0</td>\n",
       "      <td>0</td>\n",
       "      <td>0</td>\n",
       "      <td>0</td>\n",
       "      <td>1</td>\n",
       "      <td>1</td>\n",
       "      <td>2</td>\n",
       "      <td>0</td>\n",
       "      <td>1</td>\n",
       "    </tr>\n",
       "    <tr>\n",
       "      <th>2</th>\n",
       "      <td>Eres nuestro rey, emperador,  nuestro sensei, ...</td>\n",
       "      <td>26 ago.</td>\n",
       "      <td>@KAndrids</td>\n",
       "      <td>3</td>\n",
       "      <td>3</td>\n",
       "      <td>7</td>\n",
       "      <td>5</td>\n",
       "      <td>4</td>\n",
       "      <td>4</td>\n",
       "      <td>8</td>\n",
       "      <td>18</td>\n",
       "      <td>23</td>\n",
       "    </tr>\n",
       "    <tr>\n",
       "      <th>3</th>\n",
       "      <td>Exacto.dios lo bendiga.ud.ya es historia,dios ...</td>\n",
       "      <td>25 ago.</td>\n",
       "      <td>@jceciliatorres</td>\n",
       "      <td>0</td>\n",
       "      <td>1</td>\n",
       "      <td>2</td>\n",
       "      <td>0</td>\n",
       "      <td>1</td>\n",
       "      <td>1</td>\n",
       "      <td>2</td>\n",
       "      <td>3</td>\n",
       "      <td>13</td>\n",
       "    </tr>\n",
       "    <tr>\n",
       "      <th>4</th>\n",
       "      <td>¿Estás de acuerdo con la transformación?</td>\n",
       "      <td>26 ago.</td>\n",
       "      <td>@vampipe</td>\n",
       "      <td>0</td>\n",
       "      <td>0</td>\n",
       "      <td>0</td>\n",
       "      <td>0</td>\n",
       "      <td>1</td>\n",
       "      <td>3</td>\n",
       "      <td>4</td>\n",
       "      <td>0</td>\n",
       "      <td>2</td>\n",
       "    </tr>\n",
       "  </tbody>\n",
       "</table>\n",
       "</div>"
      ],
      "text/plain": [
       "                                             Content     Date  \\\n",
       "0                  Que no era un estado laico y así?  25 ago.   \n",
       "1                                   Tu no eres bueno  25 ago.   \n",
       "2  Eres nuestro rey, emperador,  nuestro sensei, ...  26 ago.   \n",
       "3  Exacto.dios lo bendiga.ud.ya es historia,dios ...  25 ago.   \n",
       "4           ¿Estás de acuerdo con la transformación?  26 ago.   \n",
       "\n",
       "              User Enojo Tristeza Miedo Disgusto Felicidad Confianza  \\\n",
       "0   @Brigitte_Grey     0        0     0        0         0         0   \n",
       "1    @juancarlosgt     0        0     0        0         1         1   \n",
       "2        @KAndrids     3        3     7        5         4         4   \n",
       "3  @jceciliatorres     0        1     2        0         1         1   \n",
       "4         @vampipe     0        0     0        0         1         3   \n",
       "\n",
       "  Sentimientos positivos Sentimentos negativos Palabras totales  \n",
       "0                      0                     0                2  \n",
       "1                      2                     0                1  \n",
       "2                      8                    18               23  \n",
       "3                      2                     3               13  \n",
       "4                      4                     0                2  "
      ]
     },
     "execution_count": 56,
     "metadata": {},
     "output_type": "execute_result"
    }
   ],
   "source": [
    "tweets_df.head()"
   ]
  },
  {
   "cell_type": "code",
   "execution_count": 58,
   "metadata": {
    "scrolled": true
   },
   "outputs": [],
   "source": [
    "tweets_df.to_excel('tweets1.xlsx',encoding='Latin-1',index=False)"
   ]
  },
  {
   "cell_type": "code",
   "execution_count": 37,
   "metadata": {
    "scrolled": true
   },
   "outputs": [
    {
     "data": {
      "text/plain": [
       "array([[1, 2, 1, 1, 1, 1, 1, 1, 1, 1, 1, 1, 1, 1, 1, 1, 1]], dtype=int64)"
      ]
     },
     "execution_count": 37,
     "metadata": {},
     "output_type": "execute_result"
    }
   ],
   "source": [
    "vector.toarray()"
   ]
  },
  {
   "cell_type": "code",
   "execution_count": 33,
   "metadata": {},
   "outputs": [
    {
     "data": {
      "text/plain": [
       "0.1111111111111111"
      ]
     },
     "execution_count": 33,
     "metadata": {},
     "output_type": "execute_result"
    }
   ],
   "source": [
    "enojo/vector.toarray().sum()"
   ]
  },
  {
   "cell_type": "code",
   "execution_count": 32,
   "metadata": {},
   "outputs": [
    {
     "data": {
      "text/plain": [
       "2"
      ]
     },
     "execution_count": 32,
     "metadata": {},
     "output_type": "execute_result"
    }
   ],
   "source": []
  }
 ],
 "metadata": {
  "kernelspec": {
   "display_name": "Python 3",
   "language": "python",
   "name": "python3"
  },
  "language_info": {
   "codemirror_mode": {
    "name": "ipython",
    "version": 3
   },
   "file_extension": ".py",
   "mimetype": "text/x-python",
   "name": "python",
   "nbconvert_exporter": "python",
   "pygments_lexer": "ipython3",
   "version": "3.8.3"
  }
 },
 "nbformat": 4,
 "nbformat_minor": 4
}
